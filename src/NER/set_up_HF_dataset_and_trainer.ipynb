{
 "cells": [
  {
   "cell_type": "markdown",
   "metadata": {
    "id": "Myl9bSUBUS3O"
   },
   "source": [
    "Este notebook toma los archivos json y los procesa con la librería datasets de Huggingface. Durante el procesado, el texto y las entidades se fusionan en un mismo prompt que será utilizado para el fine-tuning de GPT-J."
   ]
  },
  {
   "cell_type": "code",
   "execution_count": 2,
   "metadata": {
    "colab": {
     "base_uri": "https://localhost:8080/"
    },
    "executionInfo": {
     "elapsed": 9313,
     "status": "ok",
     "timestamp": 1680914384306,
     "user": {
      "displayName": "Sergio Perez",
      "userId": "07187495172449483138"
     },
     "user_tz": -60
    },
    "id": "Ryb1o5VNTbPa",
    "outputId": "40aaa4c3-bc82-47f5-8a00-32a99fb956f6"
   },
   "outputs": [
    {
     "name": "stdout",
     "output_type": "stream",
     "text": [
      "Requirement already satisfied: datasets in /home/sergiop/custom/lib/python3.8/site-packages (2.11.0)\n",
      "Requirement already satisfied: pandas in /home/sergiop/custom/lib/python3.8/site-packages (from datasets) (2.0.0)\n",
      "Requirement already satisfied: aiohttp in /home/sergiop/custom/lib/python3.8/site-packages (from datasets) (3.8.4)\n",
      "Requirement already satisfied: requests>=2.19.0 in /home/sergiop/custom/lib/python3.8/site-packages (from datasets) (2.28.2)\n",
      "Requirement already satisfied: packaging in /home/sergiop/custom/lib/python3.8/site-packages (from datasets) (23.0)\n",
      "Requirement already satisfied: fsspec[http]>=2021.11.1 in /home/sergiop/custom/lib/python3.8/site-packages (from datasets) (2023.4.0)\n",
      "Requirement already satisfied: pyyaml>=5.1 in /home/sergiop/custom/lib/python3.8/site-packages (from datasets) (6.0)\n",
      "Requirement already satisfied: xxhash in /home/sergiop/custom/lib/python3.8/site-packages (from datasets) (3.2.0)\n",
      "Requirement already satisfied: responses<0.19 in /home/sergiop/custom/lib/python3.8/site-packages (from datasets) (0.18.0)\n",
      "Requirement already satisfied: numpy>=1.17 in /home/sergiop/custom/lib/python3.8/site-packages (from datasets) (1.24.2)\n",
      "Requirement already satisfied: huggingface-hub<1.0.0,>=0.11.0 in /home/sergiop/custom/lib/python3.8/site-packages (from datasets) (0.13.4)\n",
      "Requirement already satisfied: tqdm>=4.62.1 in /home/sergiop/custom/lib/python3.8/site-packages (from datasets) (4.65.0)\n",
      "Requirement already satisfied: pyarrow>=8.0.0 in /home/sergiop/custom/lib/python3.8/site-packages (from datasets) (11.0.0)\n",
      "Requirement already satisfied: dill<0.3.7,>=0.3.0 in /home/sergiop/custom/lib/python3.8/site-packages (from datasets) (0.3.6)\n",
      "Requirement already satisfied: multiprocess in /home/sergiop/custom/lib/python3.8/site-packages (from datasets) (0.70.14)\n",
      "Requirement already satisfied: tzdata>=2022.1 in /home/sergiop/custom/lib/python3.8/site-packages (from pandas->datasets) (2023.3)\n",
      "Requirement already satisfied: python-dateutil>=2.8.2 in /home/sergiop/custom/lib/python3.8/site-packages (from pandas->datasets) (2.8.2)\n",
      "Requirement already satisfied: pytz>=2020.1 in /home/sergiop/custom/lib/python3.8/site-packages (from pandas->datasets) (2023.3)\n",
      "Requirement already satisfied: aiosignal>=1.1.2 in /home/sergiop/custom/lib/python3.8/site-packages (from aiohttp->datasets) (1.3.1)\n",
      "Requirement already satisfied: async-timeout<5.0,>=4.0.0a3 in /home/sergiop/custom/lib/python3.8/site-packages (from aiohttp->datasets) (4.0.2)\n",
      "Requirement already satisfied: charset-normalizer<4.0,>=2.0 in /home/sergiop/custom/lib/python3.8/site-packages (from aiohttp->datasets) (3.1.0)\n",
      "Requirement already satisfied: yarl<2.0,>=1.0 in /home/sergiop/custom/lib/python3.8/site-packages (from aiohttp->datasets) (1.8.2)\n",
      "Requirement already satisfied: multidict<7.0,>=4.5 in /home/sergiop/custom/lib/python3.8/site-packages (from aiohttp->datasets) (6.0.4)\n",
      "Requirement already satisfied: frozenlist>=1.1.1 in /home/sergiop/custom/lib/python3.8/site-packages (from aiohttp->datasets) (1.3.3)\n",
      "Requirement already satisfied: attrs>=17.3.0 in /home/sergiop/custom/lib/python3.8/site-packages (from aiohttp->datasets) (22.2.0)\n",
      "Requirement already satisfied: urllib3<1.27,>=1.21.1 in /home/sergiop/custom/lib/python3.8/site-packages (from requests>=2.19.0->datasets) (1.26.15)\n",
      "Requirement already satisfied: idna<4,>=2.5 in /home/sergiop/custom/lib/python3.8/site-packages (from requests>=2.19.0->datasets) (3.4)\n",
      "Requirement already satisfied: certifi>=2017.4.17 in /home/sergiop/custom/lib/python3.8/site-packages (from requests>=2.19.0->datasets) (2022.12.7)\n",
      "Requirement already satisfied: typing-extensions>=3.7.4.3 in /home/sergiop/custom/lib/python3.8/site-packages (from huggingface-hub<1.0.0,>=0.11.0->datasets) (4.5.0)\n",
      "Requirement already satisfied: filelock in /home/sergiop/custom/lib/python3.8/site-packages (from huggingface-hub<1.0.0,>=0.11.0->datasets) (3.11.0)\n",
      "Requirement already satisfied: six>=1.5 in /home/sergiop/custom/lib/python3.8/site-packages (from python-dateutil>=2.8.2->pandas->datasets) (1.16.0)\n"
     ]
    }
   ],
   "source": [
    "!pip install datasets"
   ]
  },
  {
   "cell_type": "markdown",
   "metadata": {},
   "source": [
    "Añade todos los paths de los jsons que quieras utilizar para el fine-tuning:"
   ]
  },
  {
   "cell_type": "code",
   "execution_count": 9,
   "metadata": {},
   "outputs": [
    {
     "name": "stdout",
     "output_type": "stream",
     "text": [
      "['/home/sergiop/hackathon_podcast/data/NER/json_entity/output_0.json', '/home/sergiop/hackathon_podcast/data/NER/json_entity/output_1.json', '/home/sergiop/hackathon_podcast/data/NER/json_entity/output_2.json', '/home/sergiop/hackathon_podcast/data/NER/json_entity/output_3.json', '/home/sergiop/hackathon_podcast/data/NER/json_entity/output_4.json', '/home/sergiop/hackathon_podcast/data/NER/json_entity/output_5.json', '/home/sergiop/hackathon_podcast/data/NER/json_entity/output_6.json', '/home/sergiop/hackathon_podcast/data/NER/json_entity/output_7.json', '/home/sergiop/hackathon_podcast/data/NER/json_entity/output_8.json', '/home/sergiop/hackathon_podcast/data/NER/json_entity/output_9.json', '/home/sergiop/hackathon_podcast/data/NER/json_entity/output_10.json', '/home/sergiop/hackathon_podcast/data/NER/json_entity/output_11.json', '/home/sergiop/hackathon_podcast/data/NER/json_entity/json_files_alberto/output_0.json', '/home/sergiop/hackathon_podcast/data/NER/json_entity/json_files_alberto/output_1.json', '/home/sergiop/hackathon_podcast/data/NER/json_entity/json_files_alberto/output_2.json', '/home/sergiop/hackathon_podcast/data/NER/json_entity/json_files_alberto/output_3.json', '/home/sergiop/hackathon_podcast/data/NER/json_entity/json_files_alberto/output_4.json', '/home/sergiop/hackathon_podcast/data/NER/json_entity/json_files_alberto/output_5.json', '/home/sergiop/hackathon_podcast/data/NER/json_entity/json_files_alberto/output_6.json', '/home/sergiop/hackathon_podcast/data/NER/json_entity/json_files_alberto/output_7.json', '/home/sergiop/hackathon_podcast/data/NER/json_entity/json_files_alberto/output_8.json', '/home/sergiop/hackathon_podcast/data/NER/json_entity/json_files_alberto/output_9.json', '/home/sergiop/hackathon_podcast/data/NER/json_entity/json_files_alberto/output_10.json', '/home/sergiop/hackathon_podcast/data/NER/json_entity/json_files_alberto/output_11.json', '/home/sergiop/hackathon_podcast/data/NER/json_entity/json_files_alberto/output_12.json', '/home/sergiop/hackathon_podcast/data/NER/json_entity/json_files_alberto/output_13.json', '/home/sergiop/hackathon_podcast/data/NER/json_entity/json_files_alberto/output_14.json', '/home/sergiop/hackathon_podcast/data/NER/json_entity/json_files_alberto/output_15.json', '/home/sergiop/hackathon_podcast/data/NER/json_entity/json_files_alberto/output_16.json', '/home/sergiop/hackathon_podcast/data/NER/json_entity/json_files_alberto/output_17.json']\n"
     ]
    }
   ],
   "source": [
    "# Podcasts procesados por Sergio de Deforme Semanal\n",
    "list_json_sergio = ['/home/sergiop/hackathon_podcast/data/NER/json_entity/output_' + str(i) + '.json' for i in range(12)]\n",
    "# Podcasts procesados por Alberto\n",
    "list_json_alberto = ['/home/sergiop/hackathon_podcast/data/NER/json_entity/json_files_alberto/output_' + str(i) + '.json' for i in range(18)]\n",
    "\n",
    "list_all_json = list_json_sergio + list_json_alberto\n",
    "print(list_all_json)"
   ]
  },
  {
   "cell_type": "markdown",
   "metadata": {},
   "source": [
    "Usa la librería `datasets` de Huggingface para procesar los jsons"
   ]
  },
  {
   "cell_type": "code",
   "execution_count": 116,
   "metadata": {
    "executionInfo": {
     "elapsed": 1892,
     "status": "ok",
     "timestamp": 1680914389747,
     "user": {
      "displayName": "Sergio Perez",
      "userId": "07187495172449483138"
     },
     "user_tz": -60
    },
    "id": "ubIyO5iaS4lR"
   },
   "outputs": [],
   "source": [
    "import json\n",
    "from datasets import Dataset\n",
    "\n",
    "def load_custom_dataset(paths):\n",
    "    texts = []\n",
    "    entities = []\n",
    "    for path in paths:\n",
    "        with open(path, 'r') as f:\n",
    "            data = json.load(f)\n",
    "        texts.extend([item['text'] for item in data])\n",
    "        entities.extend([item['entities'] for item in data])\n",
    "    return Dataset.from_dict({'text': texts, 'entities': entities})\n",
    "\n",
    "dataset = load_custom_dataset(list_all_json)"
   ]
  },
  {
   "cell_type": "code",
   "execution_count": 117,
   "metadata": {
    "colab": {
     "base_uri": "https://localhost:8080/"
    },
    "executionInfo": {
     "elapsed": 220,
     "status": "ok",
     "timestamp": 1680914403379,
     "user": {
      "displayName": "Sergio Perez",
      "userId": "07187495172449483138"
     },
     "user_tz": -60
    },
    "id": "uSsss1tPTHag",
    "outputId": "8aed1f6c-d241-41c9-8afa-7d8c5d3079e1"
   },
   "outputs": [
    {
     "name": "stdout",
     "output_type": "stream",
     "text": [
      "Yo hoy voy a hablar de mujeres en el mundo del arte, porque me ha leído un libro fantástico que se llama Historia del arte sin hombres, de Katie Hesel.\n",
      "\n",
      "{'class': 'people', 'text': 'Katie Hesel'}\n"
     ]
    }
   ],
   "source": [
    "print(dataset['text'][0])  # prints the first text in the dataset\n",
    "print(dataset['entities'][0][0])  # prints the first list of entities in the dataset"
   ]
  },
  {
   "cell_type": "markdown",
   "metadata": {},
   "source": [
    "Crea el prompt a partir del texto y las entidades en los jsons"
   ]
  },
  {
   "cell_type": "code",
   "execution_count": 118,
   "metadata": {
    "executionInfo": {
     "elapsed": 201,
     "status": "ok",
     "timestamp": 1680914413860,
     "user": {
      "displayName": "Sergio Perez",
      "userId": "07187495172449483138"
     },
     "user_tz": -60
    },
    "id": "fO_t8RpKTafO"
   },
   "outputs": [],
   "source": [
    "def form_training_prompts(example):\n",
    "    text = example[\"text\"]\n",
    "    text = text[:-1]\n",
    "    entities_list = example[\"entities\"]\n",
    "    entities = \"\"\n",
    "    \n",
    "    if entities_list: # Process only text with entities\n",
    "        for entity in entities_list:\n",
    "            if entity['class'] and entity['class'] != 'None' and entity['class'] != 'none' and entity['text']:\n",
    "                entities = entities + '(' + entity['class'] + ', ' + entity['text'] + '), '\n",
    "        entities = entities[:-2]\n",
    "        \n",
    "        if entities:\n",
    "            example[\n",
    "                \"prompt\"\n",
    "            ] = f\"text: {text} entities: {entities}<|endoftext|>\"\n",
    "        else:\n",
    "            example[\"prompt\"] = None\n",
    "            \n",
    "        return example\n",
    "\n",
    "    else: # if the text doesn't include entities, return None\n",
    "        example[\"prompt\"] = None\n",
    "        return example"
   ]
  },
  {
   "cell_type": "markdown",
   "metadata": {},
   "source": [
    "Elimina las entradas que no contengan ninguna entidad, y utiliza la función `map` para generar los prompts"
   ]
  },
  {
   "cell_type": "code",
   "execution_count": 119,
   "metadata": {
    "colab": {
     "base_uri": "https://localhost:8080/",
     "height": 17,
     "referenced_widgets": [
      "11cbb33a235f4ec7bd208e2a04ca49f1",
      "8f3008aac520402392cebded6b96dfe6",
      "4cd254eb85574723994ac9d7bf9e38ff",
      "42440a24b32349e2b43682b173f818d0",
      "4990734149db42d089ca50196fdf6832",
      "6bc401fbfaea4c12bf6e0937ee517666",
      "2df83cb7f1db4cfd991bebf4facf67fb",
      "28835877a9644c4da7c80455bfc1af33",
      "21c8d67184ab4ee6a839d1d9fe2741fd",
      "cee3c5ad6bec41e58262fd60a2eeafd5",
      "86474dd2e6df4d4cb37f09fe7cbd81aa"
     ]
    },
    "executionInfo": {
     "elapsed": 287,
     "status": "ok",
     "timestamp": 1680914423125,
     "user": {
      "displayName": "Sergio Perez",
      "userId": "07187495172449483138"
     },
     "user_tz": -60
    },
    "id": "wedhTOFtTnZn",
    "outputId": "62eb2ef2-e21c-4168-c2ae-d26af26db0b0"
   },
   "outputs": [
    {
     "data": {
      "application/vnd.jupyter.widget-view+json": {
       "model_id": "",
       "version_major": 2,
       "version_minor": 0
      },
      "text/plain": [
       "Filter:   0%|          | 0/2656 [00:00<?, ? examples/s]"
      ]
     },
     "metadata": {},
     "output_type": "display_data"
    },
    {
     "data": {
      "application/vnd.jupyter.widget-view+json": {
       "model_id": "",
       "version_major": 2,
       "version_minor": 0
      },
      "text/plain": [
       "Generating text prompt:   0%|          | 0/2656 [00:00<?, ? examples/s]"
      ]
     },
     "metadata": {},
     "output_type": "display_data"
    },
    {
     "data": {
      "application/vnd.jupyter.widget-view+json": {
       "model_id": "",
       "version_major": 2,
       "version_minor": 0
      },
      "text/plain": [
       "Filter:   0%|          | 0/2656 [00:00<?, ? examples/s]"
      ]
     },
     "metadata": {},
     "output_type": "display_data"
    }
   ],
   "source": [
    "dataset = dataset.filter(lambda example: example is not None)\n",
    "\n",
    "dataset = dataset.map(\n",
    "    form_training_prompts,\n",
    "    remove_columns=[\"text\", \"entities\"],\n",
    "    load_from_cache_file=False,\n",
    "    desc=\"Generating text prompt\",\n",
    ")\n",
    "\n",
    "dataset = dataset.filter(lambda example: example[\"prompt\"] is not None)"
   ]
  },
  {
   "cell_type": "markdown",
   "metadata": {},
   "source": [
    "Veamos cuántas entradas tenemos en el dataset, y algunos ejemplos"
   ]
  },
  {
   "cell_type": "code",
   "execution_count": 120,
   "metadata": {
    "colab": {
     "base_uri": "https://localhost:8080/"
    },
    "executionInfo": {
     "elapsed": 220,
     "status": "ok",
     "timestamp": 1680914435770,
     "user": {
      "displayName": "Sergio Perez",
      "userId": "07187495172449483138"
     },
     "user_tz": -60
    },
    "id": "CXRMwUDjTppQ",
    "outputId": "376b23c8-4e30-4f41-b3ea-d79e5f39cb29"
   },
   "outputs": [
    {
     "name": "stdout",
     "output_type": "stream",
     "text": [
      "The number of samples in this dataset is: 2504\n",
      "{'prompt': 'text: Yo hoy voy a hablar de mujeres en el mundo del arte, porque me ha leído un libro fantástico que se llama Historia del arte sin hombres, de Katie Hesel. entities: (people, Katie Hesel), (books, Historia del arte sin hombres)<|endoftext|>'}\n",
      "{'prompt': 'text: Lo que hace Katie Hesel en este libro es el resultado de las exposiciones y decir que otra vez no hay mujeres en esta exposición, como todo el tiempo. entities: (people, Katie Hesel), (books, este libro)<|endoftext|>'}\n"
     ]
    }
   ],
   "source": [
    "print(f'The number of samples in this dataset is: {len(dataset)}')\n",
    "print(dataset[0])\n",
    "print(dataset[1])"
   ]
  },
  {
   "cell_type": "code",
   "execution_count": 121,
   "metadata": {},
   "outputs": [
    {
     "name": "stdout",
     "output_type": "stream",
     "text": [
      "Longest prompt length: 840\n"
     ]
    }
   ],
   "source": [
    "max_length = 0\n",
    "for example in dataset:\n",
    "    prompt_length = len(example[\"prompt\"])\n",
    "    if prompt_length > max_length:\n",
    "        max_length = prompt_length\n",
    "\n",
    "print(\"Longest prompt length:\", max_length)"
   ]
  },
  {
   "cell_type": "code",
   "execution_count": 122,
   "metadata": {},
   "outputs": [
    {
     "data": {
      "image/png": "[encoded data removed]",
      "text/plain": [
       "<Figure size 640x480 with 1 Axes>"
      ]
     },
     "metadata": {},
     "output_type": "display_data"
    },
    {
     "name": "stdout",
     "output_type": "stream",
     "text": [
      "entity: people, counts: 1796\n",
      "entity: books, counts: 292\n",
      "entity: organizations, counts: 502\n",
      "entity: places, counts: 571\n",
      "entity: dates, counts: 262\n",
      "entity: topics, counts: 2247\n",
      "entity: objects, counts: 5\n",
      "entity: animals, counts: 5\n",
      "entity: artista, counts: 1\n",
      "entity: songs, counts: 152\n",
      "entity: films, counts: 327\n",
      "entity: products, counts: 4\n",
      "entity: topic, counts: 11\n",
      "entity: people names, counts: 85\n",
      "entity: book names, counts: 19\n",
      "entity: film names, counts: 84\n",
      "entity: adjectives, counts: 3\n",
      "entity: song names, counts: 5\n",
      "entity: videogame names, counts: 7\n",
      "entity: numbers, counts: 2\n",
      "entity: actions, counts: 5\n",
      "entity: genres, counts: 4\n",
      "entity: videogames, counts: 15\n",
      "entity: time, counts: 2\n",
      "entity: food, counts: 5\n",
      "entity: foods, counts: 1\n",
      "entity: instrument, counts: 1\n",
      "entity: poems, counts: 1\n",
      "entity: texts, counts: 1\n",
      "entity: instruments, counts: 1\n",
      "entity: bands, counts: 1\n",
      "entity: website, counts: 1\n",
      "entity: series, counts: 1\n",
      "entity: videos, counts: 2\n",
      "entity: albums, counts: 1\n"
     ]
    }
   ],
   "source": [
    "# ! pip install matplotlib\n",
    "from collections import defaultdict\n",
    "import matplotlib.pyplot as plt\n",
    "\n",
    "# Initialize a dictionary to count the entities\n",
    "entity_counts = defaultdict(int)\n",
    "\n",
    "# Iterate through the dataset and extract the entities\n",
    "for data in dataset:\n",
    "    entities = data['prompt'].split('entities: ')[-1]\n",
    "    entities = entities.split('), ')\n",
    "    for entity in entities:\n",
    "        try:\n",
    "            entity_type, entity_name = entity.split(', ')\n",
    "            entity_counts[entity_type[1:]] += 1\n",
    "        except: # a few phrases have a comma in them and that makes parsing tricky\n",
    "            pass\n",
    "\n",
    "        \n",
    "\n",
    "# Create a histogram of the entity counts\n",
    "plt.bar(range(len(entity_counts)), list(entity_counts.values()), align='center')\n",
    "plt.xticks(range(len(entity_counts)), list(entity_counts.keys()))\n",
    "plt.xlabel('Entity Types')\n",
    "plt.ylabel('Counts')\n",
    "plt.title('Histogram of Entity Types')\n",
    "plt.show()\n",
    "\n",
    "# Print the dictionary\n",
    "\n",
    "for k, v in entity_counts.items():\n",
    "    print(f'entity: {k}, counts: {v}')"
   ]
  },
  {
   "cell_type": "markdown",
   "metadata": {
    "id": "vRYeA3yFTyfN"
   },
   "source": [
    "Carguemos en tokenizer de español del proyecto bertin gpt-j"
   ]
  },
  {
   "cell_type": "code",
   "execution_count": 6,
   "metadata": {
    "id": "8_qZduk2Tsvy"
   },
   "outputs": [
    {
     "data": {
      "text/plain": [
       "1"
      ]
     },
     "execution_count": 6,
     "metadata": {},
     "output_type": "execute_result"
    }
   ],
   "source": [
    "from transformers import AutoTokenizer\n",
    "\n",
    "tokenizer = AutoTokenizer.from_pretrained(\"bertin-project/bertin-gpt-j-6B\")\n",
    "tokenizer.add_special_tokens({\"pad_token\": \"<|extratoken_1|>\"})  # index ?"
   ]
  },
  {
   "cell_type": "markdown",
   "metadata": {},
   "source": [
    "Aplicamos el tokenizer sobre nuestro dataset"
   ]
  },
  {
   "cell_type": "code",
   "execution_count": 124,
   "metadata": {},
   "outputs": [
    {
     "data": {
      "application/vnd.jupyter.widget-view+json": {
       "model_id": "",
       "version_major": 2,
       "version_minor": 0
      },
      "text/plain": [
       "Tokenizing text:   0%|          | 0/2504 [00:00<?, ? examples/s]"
      ]
     },
     "metadata": {},
     "output_type": "display_data"
    }
   ],
   "source": [
    "def tokenizes_text(tokenizer):\n",
    "    def func(dataset):\n",
    "        tokenized = tokenizer(dataset[\"prompt\"], return_attention_mask=False, return_tensors=\"np\", padding=\"max_length\", truncation=True, max_length=max_length)\n",
    "        return tokenized\n",
    "\n",
    "    return func\n",
    "\n",
    "# Tokenize prompts\n",
    "dataset = dataset.map(\n",
    "    tokenizes_text(tokenizer),\n",
    "    batched=True,\n",
    "    batch_size=10,\n",
    "    num_proc=1,\n",
    "    remove_columns=dataset.column_names,\n",
    "    load_from_cache_file=False,\n",
    "    desc=\"Tokenizing text\",\n",
    ")"
   ]
  },
  {
   "cell_type": "markdown",
   "metadata": {},
   "source": [
    "Ponemos el dataset en paquetes para ahorrar espacio y eliminar pad tokens. Además, creamos labels que son iguales que los prompts pero desplazadas una unidad a la derecha."
   ]
  },
  {
   "cell_type": "code",
   "execution_count": 129,
   "metadata": {},
   "outputs": [
    {
     "data": {
      "application/vnd.jupyter.widget-view+json": {
       "model_id": "",
       "version_major": 2,
       "version_minor": 0
      },
      "text/plain": [
       "Packing sequences:   0%|          | 0/2504 [00:00<?, ? examples/s]"
      ]
     },
     "metadata": {},
     "output_type": "display_data"
    }
   ],
   "source": [
    "from itertools import chain\n",
    "\n",
    "\n",
    "def group_texts():\n",
    "    seq_len_1 = 840 + 1\n",
    "\n",
    "    def func(examples):\n",
    "        # Concatenate all texts.\n",
    "        inputs = list(chain(*examples[\"input_ids\"]))\n",
    "        total_length = len(inputs)\n",
    "        # We drop the small remainder instead of padding\n",
    "        if total_length >= seq_len_1:\n",
    "            total_length = (total_length // seq_len_1) * seq_len_1\n",
    "        # Split by chunks of max_len.\n",
    "        data = [inputs[i : i + seq_len_1] for i in range(0, total_length, seq_len_1)]\n",
    "        result = {\n",
    "            \"input_ids\": [d[:-1] for d in data],\n",
    "            \"labels\": [d[1:] for d in data],\n",
    "        }\n",
    "        return result\n",
    "\n",
    "    return func\n",
    "\n",
    "# Pack tokenized prompts into sequences and split sequences in input_ids and labels\n",
    "dataset = dataset.map(\n",
    "    group_texts(),\n",
    "    batched=True,\n",
    "    batch_size=1000,\n",
    "    num_proc=1,\n",
    "    load_from_cache_file=False,\n",
    "    desc=\"Packing sequences\",\n",
    ")"
   ]
  },
  {
   "cell_type": "markdown",
   "metadata": {},
   "source": [
    "Comprobemos que los input_ids y los labels son identicos pero desplazados una unidad"
   ]
  },
  {
   "cell_type": "code",
   "execution_count": 130,
   "metadata": {},
   "outputs": [
    {
     "name": "stdout",
     "output_type": "stream",
     "text": [
      "2499\n",
      "first 10 tokens of first sentence\n",
      "input_ids\n",
      "[5239, 25, 25455, 289, 726, 23291, 257, 387, 2436, 283]\n",
      "labels - shifted by one\n",
      "[25, 25455, 289, 726, 23291, 257, 387, 2436, 283, 390]\n"
     ]
    }
   ],
   "source": [
    "print(len(dataset))\n",
    "# Show a portion of first sentence. You can see that the label is the input shifted by one.\n",
    "print(\"first 10 tokens of first sentence\")\n",
    "print(\"input_ids\")\n",
    "print(dataset[\"input_ids\"][0][:10])\n",
    "print(\"labels - shifted by one\")\n",
    "print(dataset[\"labels\"][0][:10])"
   ]
  },
  {
   "cell_type": "markdown",
   "metadata": {},
   "source": [
    "### Descargar el checkpoint y probar a hacer inferencia"
   ]
  },
  {
   "cell_type": "markdown",
   "metadata": {},
   "source": [
    "Por ahora el código siguiente no me funciona. El kernel muere, seguramente por falta de memoria. Lo podemos reducir más?"
   ]
  },
  {
   "cell_type": "code",
   "execution_count": null,
   "metadata": {},
   "outputs": [],
   "source": [
    "from transformers.models.gptj.modeling_gptj import GPTJForCausalLM\n",
    "import torch\n",
    "\n",
    "if torch.cuda.is_available():\n",
    "    pretrained = GPTJForCausalLM.from_pretrained(r\"bertin-project/bertin-gpt-j-6B\", torch_dtype=torch.float16).cuda()\n",
    "else:\n",
    "    pretrained = GPTJForCausalLM.from_pretrained(r\"bertin-project/bertin-gpt-j-6B\", torch_dtype=torch.float16)"
   ]
  },
  {
   "cell_type": "markdown",
   "metadata": {},
   "source": [
    "Hagamos un poco de inferencia primero para ver cómo el modelo se comporta"
   ]
  },
  {
   "cell_type": "code",
   "execution_count": null,
   "metadata": {},
   "outputs": [],
   "source": [
    "input_text = \"Hola mi nombre es Sergio y\"\n",
    "input_ids = tokenizer.encode(str(input_text), return_tensors='pt').cuda()\n",
    "\n",
    "output = pretrained.generate(\n",
    "    input_ids,\n",
    "    do_sample=True,\n",
    "    max_length=20,\n",
    "    top_p=0.7,\n",
    "    top_k=0,\n",
    "    temperature=1.0,\n",
    ")\n",
    "print(output)"
   ]
  },
  {
   "cell_type": "markdown",
   "metadata": {},
   "source": [
    "### Configurar el trainer"
   ]
  },
  {
   "cell_type": "code",
   "execution_count": null,
   "metadata": {},
   "outputs": [],
   "source": [
    "from transformers import Trainer, GPTJConfig\n",
    "\n",
    "config = GPTJConfig()\n",
    "config.training.steps = 2"
   ]
  },
  {
   "cell_type": "code",
   "execution_count": null,
   "metadata": {},
   "outputs": [],
   "source": [
    "trainer = Trainer(\n",
    "    model=pretrained\n",
    "    config=config,\n",
    "    train_dataset=dataset,\n",
    "    tokenizer=tokenizer\n",
    ")"
   ]
  },
  {
   "cell_type": "code",
   "execution_count": 9,
   "metadata": {},
   "outputs": [
    {
     "name": "stdout",
     "output_type": "stream",
     "text": [
      "True\n"
     ]
    }
   ],
   "source": []
  },
  {
   "cell_type": "code",
   "execution_count": null,
   "metadata": {},
   "outputs": [],
   "source": []
  }
 ],
 "metadata": {
  "colab": {
   "authorship_tag": "ABX9TyNsLmV3EZLrCfM1e7CtrXll",
   "mount_file_id": "1ORUWq0HeMeq6S5KPe6sKzQtkmHKrq_4G",
   "provenance": []
  },
  "kernelspec": {
   "display_name": "Python 3 (ipykernel)",
   "language": "python",
   "name": "python3"
  },
  "language_info": {
   "codemirror_mode": {
    "name": "ipython",
    "version": 3
   },
   "file_extension": ".py",
   "mimetype": "text/x-python",
   "name": "python",
   "nbconvert_exporter": "python",
   "pygments_lexer": "ipython3",
   "version": "3.8.10"
  },
  "widgets": {
   "application/vnd.jupyter.widget-state+json": {
    "11cbb33a235f4ec7bd208e2a04ca49f1": {
     "model_module": "@jupyter-widgets/controls",
     "model_module_version": "1.5.0",
     "model_name": "HBoxModel",
     "state": {
      "_dom_classes": [],
      "_model_module": "@jupyter-widgets/controls",
      "_model_module_version": "1.5.0",
      "_model_name": "HBoxModel",
      "_view_count": null,
      "_view_module": "@jupyter-widgets/controls",
      "_view_module_version": "1.5.0",
      "_view_name": "HBoxView",
      "box_style": "",
      "children": [
       "IPY_MODEL_8f3008aac520402392cebded6b96dfe6",
       "IPY_MODEL_4cd254eb85574723994ac9d7bf9e38ff",
       "IPY_MODEL_42440a24b32349e2b43682b173f818d0"
      ],
      "layout": "IPY_MODEL_4990734149db42d089ca50196fdf6832"
     }
    },
    "21c8d67184ab4ee6a839d1d9fe2741fd": {
     "model_module": "@jupyter-widgets/controls",
     "model_module_version": "1.5.0",
     "model_name": "ProgressStyleModel",
     "state": {
      "_model_module": "@jupyter-widgets/controls",
      "_model_module_version": "1.5.0",
      "_model_name": "ProgressStyleModel",
      "_view_count": null,
      "_view_module": "@jupyter-widgets/base",
      "_view_module_version": "1.2.0",
      "_view_name": "StyleView",
      "bar_color": null,
      "description_width": ""
     }
    },
    "28835877a9644c4da7c80455bfc1af33": {
     "model_module": "@jupyter-widgets/base",
     "model_module_version": "1.2.0",
     "model_name": "LayoutModel",
     "state": {
      "_model_module": "@jupyter-widgets/base",
      "_model_module_version": "1.2.0",
      "_model_name": "LayoutModel",
      "_view_count": null,
      "_view_module": "@jupyter-widgets/base",
      "_view_module_version": "1.2.0",
      "_view_name": "LayoutView",
      "align_content": null,
      "align_items": null,
      "align_self": null,
      "border": null,
      "bottom": null,
      "display": null,
      "flex": null,
      "flex_flow": null,
      "grid_area": null,
      "grid_auto_columns": null,
      "grid_auto_flow": null,
      "grid_auto_rows": null,
      "grid_column": null,
      "grid_gap": null,
      "grid_row": null,
      "grid_template_areas": null,
      "grid_template_columns": null,
      "grid_template_rows": null,
      "height": null,
      "justify_content": null,
      "justify_items": null,
      "left": null,
      "margin": null,
      "max_height": null,
      "max_width": null,
      "min_height": null,
      "min_width": null,
      "object_fit": null,
      "object_position": null,
      "order": null,
      "overflow": null,
      "overflow_x": null,
      "overflow_y": null,
      "padding": null,
      "right": null,
      "top": null,
      "visibility": null,
      "width": null
     }
    },
    "2df83cb7f1db4cfd991bebf4facf67fb": {
     "model_module": "@jupyter-widgets/controls",
     "model_module_version": "1.5.0",
     "model_name": "DescriptionStyleModel",
     "state": {
      "_model_module": "@jupyter-widgets/controls",
      "_model_module_version": "1.5.0",
      "_model_name": "DescriptionStyleModel",
      "_view_count": null,
      "_view_module": "@jupyter-widgets/base",
      "_view_module_version": "1.2.0",
      "_view_name": "StyleView",
      "description_width": ""
     }
    },
    "42440a24b32349e2b43682b173f818d0": {
     "model_module": "@jupyter-widgets/controls",
     "model_module_version": "1.5.0",
     "model_name": "HTMLModel",
     "state": {
      "_dom_classes": [],
      "_model_module": "@jupyter-widgets/controls",
      "_model_module_version": "1.5.0",
      "_model_name": "HTMLModel",
      "_view_count": null,
      "_view_module": "@jupyter-widgets/controls",
      "_view_module_version": "1.5.0",
      "_view_name": "HTMLView",
      "description": "",
      "description_tooltip": null,
      "layout": "IPY_MODEL_cee3c5ad6bec41e58262fd60a2eeafd5",
      "placeholder": "​",
      "style": "IPY_MODEL_86474dd2e6df4d4cb37f09fe7cbd81aa",
      "value": " 0/37 [00:00&lt;?, ? examples/s]"
     }
    },
    "4990734149db42d089ca50196fdf6832": {
     "model_module": "@jupyter-widgets/base",
     "model_module_version": "1.2.0",
     "model_name": "LayoutModel",
     "state": {
      "_model_module": "@jupyter-widgets/base",
      "_model_module_version": "1.2.0",
      "_model_name": "LayoutModel",
      "_view_count": null,
      "_view_module": "@jupyter-widgets/base",
      "_view_module_version": "1.2.0",
      "_view_name": "LayoutView",
      "align_content": null,
      "align_items": null,
      "align_self": null,
      "border": null,
      "bottom": null,
      "display": null,
      "flex": null,
      "flex_flow": null,
      "grid_area": null,
      "grid_auto_columns": null,
      "grid_auto_flow": null,
      "grid_auto_rows": null,
      "grid_column": null,
      "grid_gap": null,
      "grid_row": null,
      "grid_template_areas": null,
      "grid_template_columns": null,
      "grid_template_rows": null,
      "height": null,
      "justify_content": null,
      "justify_items": null,
      "left": null,
      "margin": null,
      "max_height": null,
      "max_width": null,
      "min_height": null,
      "min_width": null,
      "object_fit": null,
      "object_position": null,
      "order": null,
      "overflow": null,
      "overflow_x": null,
      "overflow_y": null,
      "padding": null,
      "right": null,
      "top": null,
      "visibility": "hidden",
      "width": null
     }
    },
    "4cd254eb85574723994ac9d7bf9e38ff": {
     "model_module": "@jupyter-widgets/controls",
     "model_module_version": "1.5.0",
     "model_name": "FloatProgressModel",
     "state": {
      "_dom_classes": [],
      "_model_module": "@jupyter-widgets/controls",
      "_model_module_version": "1.5.0",
      "_model_name": "FloatProgressModel",
      "_view_count": null,
      "_view_module": "@jupyter-widgets/controls",
      "_view_module_version": "1.5.0",
      "_view_name": "ProgressView",
      "bar_style": "",
      "description": "",
      "description_tooltip": null,
      "layout": "IPY_MODEL_28835877a9644c4da7c80455bfc1af33",
      "max": 37,
      "min": 0,
      "orientation": "horizontal",
      "style": "IPY_MODEL_21c8d67184ab4ee6a839d1d9fe2741fd",
      "value": 37
     }
    },
    "6bc401fbfaea4c12bf6e0937ee517666": {
     "model_module": "@jupyter-widgets/base",
     "model_module_version": "1.2.0",
     "model_name": "LayoutModel",
     "state": {
      "_model_module": "@jupyter-widgets/base",
      "_model_module_version": "1.2.0",
      "_model_name": "LayoutModel",
      "_view_count": null,
      "_view_module": "@jupyter-widgets/base",
      "_view_module_version": "1.2.0",
      "_view_name": "LayoutView",
      "align_content": null,
      "align_items": null,
      "align_self": null,
      "border": null,
      "bottom": null,
      "display": null,
      "flex": null,
      "flex_flow": null,
      "grid_area": null,
      "grid_auto_columns": null,
      "grid_auto_flow": null,
      "grid_auto_rows": null,
      "grid_column": null,
      "grid_gap": null,
      "grid_row": null,
      "grid_template_areas": null,
      "grid_template_columns": null,
      "grid_template_rows": null,
      "height": null,
      "justify_content": null,
      "justify_items": null,
      "left": null,
      "margin": null,
      "max_height": null,
      "max_width": null,
      "min_height": null,
      "min_width": null,
      "object_fit": null,
      "object_position": null,
      "order": null,
      "overflow": null,
      "overflow_x": null,
      "overflow_y": null,
      "padding": null,
      "right": null,
      "top": null,
      "visibility": null,
      "width": null
     }
    },
    "86474dd2e6df4d4cb37f09fe7cbd81aa": {
     "model_module": "@jupyter-widgets/controls",
     "model_module_version": "1.5.0",
     "model_name": "DescriptionStyleModel",
     "state": {
      "_model_module": "@jupyter-widgets/controls",
      "_model_module_version": "1.5.0",
      "_model_name": "DescriptionStyleModel",
      "_view_count": null,
      "_view_module": "@jupyter-widgets/base",
      "_view_module_version": "1.2.0",
      "_view_name": "StyleView",
      "description_width": ""
     }
    },
    "8f3008aac520402392cebded6b96dfe6": {
     "model_module": "@jupyter-widgets/controls",
     "model_module_version": "1.5.0",
     "model_name": "HTMLModel",
     "state": {
      "_dom_classes": [],
      "_model_module": "@jupyter-widgets/controls",
      "_model_module_version": "1.5.0",
      "_model_name": "HTMLModel",
      "_view_count": null,
      "_view_module": "@jupyter-widgets/controls",
      "_view_module_version": "1.5.0",
      "_view_name": "HTMLView",
      "description": "",
      "description_tooltip": null,
      "layout": "IPY_MODEL_6bc401fbfaea4c12bf6e0937ee517666",
      "placeholder": "​",
      "style": "IPY_MODEL_2df83cb7f1db4cfd991bebf4facf67fb",
      "value": "Generating text prompt:   0%"
     }
    },
    "cee3c5ad6bec41e58262fd60a2eeafd5": {
     "model_module": "@jupyter-widgets/base",
     "model_module_version": "1.2.0",
     "model_name": "LayoutModel",
     "state": {
      "_model_module": "@jupyter-widgets/base",
      "_model_module_version": "1.2.0",
      "_model_name": "LayoutModel",
      "_view_count": null,
      "_view_module": "@jupyter-widgets/base",
      "_view_module_version": "1.2.0",
      "_view_name": "LayoutView",
      "align_content": null,
      "align_items": null,
      "align_self": null,
      "border": null,
      "bottom": null,
      "display": null,
      "flex": null,
      "flex_flow": null,
      "grid_area": null,
      "grid_auto_columns": null,
      "grid_auto_flow": null,
      "grid_auto_rows": null,
      "grid_column": null,
      "grid_gap": null,
      "grid_row": null,
      "grid_template_areas": null,
      "grid_template_columns": null,
      "grid_template_rows": null,
      "height": null,
      "justify_content": null,
      "justify_items": null,
      "left": null,
      "margin": null,
      "max_height": null,
      "max_width": null,
      "min_height": null,
      "min_width": null,
      "object_fit": null,
      "object_position": null,
      "order": null,
      "overflow": null,
      "overflow_x": null,
      "overflow_y": null,
      "padding": null,
      "right": null,
      "top": null,
      "visibility": null,
      "width": null
     }
    }
   }
  }
 },
 "nbformat": 4,
 "nbformat_minor": 1
}
