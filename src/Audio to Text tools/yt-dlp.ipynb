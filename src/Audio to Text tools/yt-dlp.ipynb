{
 "cells": [
  {
   "cell_type": "markdown",
   "id": "a2565519",
   "metadata": {},
   "source": [
    "# Conseguir los archivos de audio de Youtube"
   ]
  },
  {
   "cell_type": "markdown",
   "id": "4b6f6aae",
   "metadata": {},
   "source": [
    "### Utilizar yt-dlp para descargar audio\n",
    "\n",
    "Con https://github.com/yt-dlp/yt-dlp se puede descargar el mp3 audio de cualquier video en youtube. Solo hace falta en url. \n",
    "\n",
    "Es necesario instalar `ffmpeg` para utilizar `yt-dlp`. Puedes leer sobre como instalarlo [aquí](https://ffmpeg.org/download.html).\n"
   ]
  },
  {
   "cell_type": "code",
   "execution_count": 1,
   "id": "3c08f20c",
   "metadata": {},
   "outputs": [
    {
     "name": "stdout",
     "output_type": "stream",
     "text": [
      "[youtube] Extracting URL: https://www.youtube.com/watch?v=pGaZ2uNtX68\n",
      "[youtube] pGaZ2uNtX68: Downloading webpage\n",
      "[youtube] pGaZ2uNtX68: Downloading android player API JSON\n",
      "[info] pGaZ2uNtX68: Downloading 1 format(s): 140\n",
      "[dashsegments] Total fragments: 1\n",
      "[download] Destination: ../../data/output.m4a\n",
      "[download] 100% of    1.84MiB in 00:00:01 at 1.15MiB/s               \n",
      "[FixupM4a] Correcting container of \"../../data/output.m4a\"\n",
      "[ExtractAudio] Destination: ../../data/output.mp3\n",
      "Deleting original file ../../data/output.m4a (pass -k to keep)\n"
     ]
    }
   ],
   "source": [
    "import yt_dlp\n",
    "\n",
    "URLS = ['https://www.youtube.com/watch?v=pGaZ2uNtX68'] # demo video of 2 minutes\n",
    "\n",
    "ydl_opts = {\n",
    "    'format': 'm4a/bestaudio/best',\n",
    "    'outtmpl': '../../data/output.%(ext)s',\n",
    "    # ℹ️ See help(yt_dlp.postprocessor) for a list of available Postprocessors and their arguments\n",
    "    'postprocessors': [{  # Extract audio using ffmpeg\n",
    "        'key': 'FFmpegExtractAudio',\n",
    "        'preferredcodec': 'mp3',\n",
    "    }]\n",
    "}\n",
    "\n",
    "with yt_dlp.YoutubeDL(ydl_opts) as ydl:\n",
    "    ydl.download(URLS)"
   ]
  },
  {
   "cell_type": "markdown",
   "id": "d0c45c31",
   "metadata": {},
   "source": [
    "Funciona bien, pero hay que introducir el url manualmente. ¿Cómo podemos encontrar las urls de un canal de youtube automáticamente?"
   ]
  },
  {
   "cell_type": "markdown",
   "id": "e986d256",
   "metadata": {},
   "source": [
    "### Utilizar youtube-search-python para conseguir las urls"
   ]
  },
  {
   "cell_type": "markdown",
   "id": "a16132bc",
   "metadata": {},
   "source": [
    "Es muy fácil una vez que identificas el id de la playlist."
   ]
  },
  {
   "cell_type": "code",
   "execution_count": 24,
   "id": "ca032e74",
   "metadata": {},
   "outputs": [
    {
     "name": "stdout",
     "output_type": "stream",
     "text": [
      "['https://www.youtube.com/watch?v=7Sk6lTLSZcA&list=PLrAXtmErZgOcl7mvyfkQTHFnOGZxWtN55&index=1', 'https://www.youtube.com/watch?v=ABbDB6xri8o&list=PLrAXtmErZgOcl7mvyfkQTHFnOGZxWtN55&index=2', 'https://www.youtube.com/watch?v=W7wJDJ56c88&list=PLrAXtmErZgOcl7mvyfkQTHFnOGZxWtN55&index=3', 'https://www.youtube.com/watch?v=JTmxA2MvEqk&list=PLrAXtmErZgOcl7mvyfkQTHFnOGZxWtN55&index=4', 'https://www.youtube.com/watch?v=DEqXNfs_HhY&list=PLrAXtmErZgOcl7mvyfkQTHFnOGZxWtN55&index=5', 'https://www.youtube.com/watch?v=kpiY_LemaTc&list=PLrAXtmErZgOcl7mvyfkQTHFnOGZxWtN55&index=6']\n"
     ]
    }
   ],
   "source": [
    "from youtubesearchpython import Search, Playlist\n",
    "\n",
    "\n",
    "playlistVideos = Playlist.getVideos('https://www.youtube.com/watch?v=7Sk6lTLSZcA&list=PLrAXtmErZgOcl7mvyfkQTHFnOGZxWtN55')\n",
    "urls = []\n",
    "\n",
    "for v in range(len(playlistVideos['videos'])):\n",
    "    urls.append(playlistVideos['videos'][v]['link'])\n",
    "\n",
    "print(urls)"
   ]
  },
  {
   "cell_type": "code",
   "execution_count": null,
   "id": "fe2418b6",
   "metadata": {},
   "outputs": [],
   "source": []
  }
 ],
 "metadata": {
  "kernelspec": {
   "display_name": "Python 3 (ipykernel)",
   "language": "python",
   "name": "python3"
  },
  "language_info": {
   "codemirror_mode": {
    "name": "ipython",
    "version": 3
   },
   "file_extension": ".py",
   "mimetype": "text/x-python",
   "name": "python",
   "nbconvert_exporter": "python",
   "pygments_lexer": "ipython3",
   "version": "3.9.12"
  }
 },
 "nbformat": 4,
 "nbformat_minor": 5
}
